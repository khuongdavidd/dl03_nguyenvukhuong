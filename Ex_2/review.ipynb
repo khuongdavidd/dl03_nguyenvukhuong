{
 "cells": [
  {
   "cell_type": "code",
   "execution_count": null,
   "metadata": {},
   "outputs": [],
   "source": [
    "from selenium import webdriver\n",
    "from selenium.webdriver.common.by import By\n",
    "from selenium.webdriver.common.keys import Keys\n",
    "from selenium.webdriver.support.ui import WebDriverWait\n",
    "from selenium.webdriver.support import expected_conditions as EC\n",
    "import time\n",
    "from my_lib import *\n",
    "import pandas as pd\n",
    "from datetime import datetime"
   ]
  },
  {
   "cell_type": "code",
   "execution_count": null,
   "metadata": {},
   "outputs": [],
   "source": [
    "option = webdriver.ChromeOptions()\n",
    "driver = webdriver.Chrome(options=option)\n",
    "driver.maximize_window()\n"
   ]
  },
  {
   "cell_type": "markdown",
   "metadata": {},
   "source": [
    "lấy list link"
   ]
  },
  {
   "cell_type": "code",
   "execution_count": null,
   "metadata": {},
   "outputs": [
    {
     "name": "stdout",
     "output_type": "stream",
     "text": [
      "1000\n"
     ]
    }
   ],
   "source": [
    "list_links = read_txt('data/txt/link_course.txt')\n",
    "print(len(list_links))"
   ]
  },
  {
   "cell_type": "code",
   "execution_count": null,
   "metadata": {},
   "outputs": [],
   "source": [
    "course_name=[]\n",
    "reviewer_name=[]\n",
    "date_of_review=[]\n",
    "review_content=[]\n",
    "rating_star=[]"
   ]
  },
  {
   "cell_type": "code",
   "execution_count": null,
   "metadata": {},
   "outputs": [],
   "source": [
    "url = 'https://www.coursera.org/learn/python-for-applied-data-science-ai/reviews'\n",
    "driver.get(url)"
   ]
  },
  {
   "cell_type": "code",
   "execution_count": 7,
   "metadata": {},
   "outputs": [
    {
     "name": "stdout",
     "output_type": "stream",
     "text": [
      "25\n"
     ]
    }
   ],
   "source": [
    "tag_reviews = driver.find_elements(by=By.CSS_SELECTOR, value='div.review-page-review')\n",
    "print(len(tag_reviews))"
   ]
  },
  {
   "cell_type": "code",
   "execution_count": 14,
   "metadata": {},
   "outputs": [
    {
     "name": "stdout",
     "output_type": "stream",
     "text": [
      "1 - 25 of 6,259 Reviews for Python for Data Science, AI & Development\n"
     ]
    },
    {
     "data": {
      "text/plain": [
       "6259"
      ]
     },
     "execution_count": 14,
     "metadata": {},
     "output_type": "execute_result"
    }
   ],
   "source": [
    "number_of_reviews_tag = driver.find_element(by=By.CSS_SELECTOR, value='h2.text-secondary')\n",
    "print(number_of_reviews_tag.text)\n",
    "number_of_reviews = int(number_of_reviews_tag.text.split(' ')[4].replace(',', ''))\n",
    "number_of_reviews\n"
   ]
  },
  {
   "cell_type": "code",
   "execution_count": 23,
   "metadata": {},
   "outputs": [
    {
     "name": "stdout",
     "output_type": "stream",
     "text": [
      "HTTPConnectionPool(host='localhost', port=53915): Max retries exceeded with url: /session/dd7eb794896cb2b97bcdd8f103101eec/element (Caused by NewConnectionError('<urllib3.connection.HTTPConnection object at 0x0000022A0F007F10>: Failed to establish a new connection: [WinError 10061] No connection could be made because the target machine actively refused it'))\n"
     ]
    }
   ],
   "source": [
    "while True:\n",
    "    try:\n",
    "        more_button = WebDriverWait(driver, 10).until(EC.presence_of_element_located((By.XPATH, '//*[@id=\"rendered-content\"]/div/div/div[1]/div[4]/nav/ul/li[15]/a')))\n",
    "        tag_reviews = driver.find_elements(by=By.CSS_SELECTOR, value='div.review-page-review')\n",
    "        for tag_review in tag_reviews:\n",
    "            tag_reviewer_name = tag_review.find_element(by=By.CSS_SELECTOR, value='p.reviewerName')\n",
    "            tag_date_of_review = tag_review.find_element(by=By.CSS_SELECTOR, value='p.dateOfReview')\n",
    "            tag_review_content = tag_review.find_element(by=By.CSS_SELECTOR, value='div.reviewText')\n",
    "            tag_rating_star = tag_review.find_elements(by=By.CSS_SELECTOR, value='span._13xsef79')\n",
    "            print(tag_rating_star.text)\n",
    "            break\n",
    "        more_button.click()\n",
    "    except Exception as e:\n",
    "        print(e)\n",
    "        break\n"
   ]
  },
  {
   "cell_type": "code",
   "execution_count": null,
   "metadata": {},
   "outputs": [],
   "source": []
  }
 ],
 "metadata": {
  "kernelspec": {
   "display_name": "base",
   "language": "python",
   "name": "python3"
  },
  "language_info": {
   "codemirror_mode": {
    "name": "ipython",
    "version": 3
   },
   "file_extension": ".py",
   "mimetype": "text/x-python",
   "name": "python",
   "nbconvert_exporter": "python",
   "pygments_lexer": "ipython3",
   "version": "3.11.5"
  }
 },
 "nbformat": 4,
 "nbformat_minor": 2
}
